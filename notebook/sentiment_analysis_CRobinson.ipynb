{
 "cells": [
  {
   "cell_type": "markdown",
   "metadata": {
    "id": "2oTQ0ZHcDqFe"
   },
   "source": [
    "#This notebook implements a text mining sentiment analysis project "
   ]
  },
  {
   "cell_type": "markdown",
   "metadata": {
    "id": "LvPmfHEMcsh-"
   },
   "source": [
    "##First we fetch the data from google drive"
   ]
  },
  {
   "cell_type": "code",
   "execution_count": 1,
   "metadata": {
    "colab": {
     "base_uri": "https://localhost:8080/"
    },
    "id": "_vOp1JWVDqFg",
    "outputId": "62a3773a-88f1-4094-f483-e946514e3742"
   },
   "outputs": [
    {
     "name": "stderr",
     "output_type": "stream",
     "text": [
      "[nltk_data] Downloading package punkt to\n",
      "[nltk_data]     C:\\Users\\Chris\\AppData\\Roaming\\nltk_data...\n",
      "[nltk_data]   Package punkt is already up-to-date!\n"
     ]
    },
    {
     "data": {
      "text/plain": [
       "True"
      ]
     },
     "execution_count": 1,
     "metadata": {},
     "output_type": "execute_result"
    }
   ],
   "source": [
    "%matplotlib inline\n",
    "from matplotlib import pyplot as plt\n",
    "import numpy as np\n",
    "import pandas as pd\n",
    "from sklearn.feature_extraction.text import CountVectorizer\n",
    "from sklearn.linear_model import LogisticRegression\n",
    "from sklearn.metrics import classification_report, roc_auc_score, roc_curve\n",
    "from sklearn.pipeline import Pipeline\n",
    "import nltk\n",
    "import nltk\n",
    "nltk.download('punkt')"
   ]
  },
  {
   "cell_type": "markdown",
   "metadata": {
    "id": "IfATH8s2DqFi"
   },
   "source": [
    "### Read data"
   ]
  },
  {
   "cell_type": "code",
   "execution_count": 4,
   "metadata": {
    "id": "tzkj-xF0DqFi"
   },
   "outputs": [],
   "source": [
    "columns = ['polarity', 'tweetid', 'date', 'query_name', 'user', 'text']\n",
    "dftrain = pd.read_csv(r'C:\\Users\\Chris\\Desktop\\ADS509\\Project\\trainingandtestdata\\training.1600000.processed.noemoticon.csv',\n",
    "                      header = None,\n",
    "                      encoding ='ISO-8859-1')\n",
    "dftest = pd.read_csv(r'C:\\Users\\Chris\\Desktop\\ADS509\\Project\\trainingandtestdata\\testdata.manual.2009.06.14.csv',\n",
    "                     header = None,\n",
    "                     encoding ='ISO-8859-1')\n",
    "dftrain.columns = columns\n",
    "dftest.columns = columns\n",
    "\n"
   ]
  },
  {
   "cell_type": "code",
   "execution_count": null,
   "metadata": {
    "colab": {
     "base_uri": "https://localhost:8080/",
     "height": 363
    },
    "id": "VuHyYB5PXdGD",
    "outputId": "1d30867e-ca40-4758-bbce-c613d42af262"
   },
   "outputs": [
    {
     "data": {
      "text/html": [
       "\n",
       "  <div id=\"df-6cb5533d-a3e9-49d6-a97d-670c6174042e\">\n",
       "    <div class=\"colab-df-container\">\n",
       "      <div>\n",
       "<style scoped>\n",
       "    .dataframe tbody tr th:only-of-type {\n",
       "        vertical-align: middle;\n",
       "    }\n",
       "\n",
       "    .dataframe tbody tr th {\n",
       "        vertical-align: top;\n",
       "    }\n",
       "\n",
       "    .dataframe thead th {\n",
       "        text-align: right;\n",
       "    }\n",
       "</style>\n",
       "<table border=\"1\" class=\"dataframe\">\n",
       "  <thead>\n",
       "    <tr style=\"text-align: right;\">\n",
       "      <th></th>\n",
       "      <th>polarity</th>\n",
       "      <th>tweetid</th>\n",
       "      <th>date</th>\n",
       "      <th>query_name</th>\n",
       "      <th>user</th>\n",
       "      <th>text</th>\n",
       "    </tr>\n",
       "  </thead>\n",
       "  <tbody>\n",
       "    <tr>\n",
       "      <th>1164229</th>\n",
       "      <td>4</td>\n",
       "      <td>1979740820</td>\n",
       "      <td>Sun May 31 04:18:56 PDT 2009</td>\n",
       "      <td>NO_QUERY</td>\n",
       "      <td>bizbooks</td>\n",
       "      <td>@itaypaz i bit the bullet and signed up for #a...</td>\n",
       "    </tr>\n",
       "    <tr>\n",
       "      <th>1495568</th>\n",
       "      <td>4</td>\n",
       "      <td>2069955839</td>\n",
       "      <td>Sun Jun 07 16:50:22 PDT 2009</td>\n",
       "      <td>NO_QUERY</td>\n",
       "      <td>DailyCrumb</td>\n",
       "      <td>@Meonart twitter  how is meon goin? and other ...</td>\n",
       "    </tr>\n",
       "    <tr>\n",
       "      <th>935831</th>\n",
       "      <td>4</td>\n",
       "      <td>1792844559</td>\n",
       "      <td>Thu May 14 00:26:31 PDT 2009</td>\n",
       "      <td>NO_QUERY</td>\n",
       "      <td>lexiblaire</td>\n",
       "      <td>@lsawyer17 you have officially made me a twitt...</td>\n",
       "    </tr>\n",
       "    <tr>\n",
       "      <th>1222579</th>\n",
       "      <td>4</td>\n",
       "      <td>1990304016</td>\n",
       "      <td>Mon Jun 01 04:29:44 PDT 2009</td>\n",
       "      <td>NO_QUERY</td>\n",
       "      <td>PicStop</td>\n",
       "      <td>@rajdeepuk you are welcome - if you need any m...</td>\n",
       "    </tr>\n",
       "    <tr>\n",
       "      <th>287620</th>\n",
       "      <td>0</td>\n",
       "      <td>1994286082</td>\n",
       "      <td>Mon Jun 01 11:42:05 PDT 2009</td>\n",
       "      <td>NO_QUERY</td>\n",
       "      <td>NMPrincess</td>\n",
       "      <td>Rite now, I'm @ da mall. Gettn my hair done! I...</td>\n",
       "    </tr>\n",
       "    <tr>\n",
       "      <th>704462</th>\n",
       "      <td>0</td>\n",
       "      <td>2256045842</td>\n",
       "      <td>Sat Jun 20 12:10:45 PDT 2009</td>\n",
       "      <td>NO_QUERY</td>\n",
       "      <td>AlloryB</td>\n",
       "      <td>So I have no idea why I'm such a loser  can so...</td>\n",
       "    </tr>\n",
       "    <tr>\n",
       "      <th>1325950</th>\n",
       "      <td>4</td>\n",
       "      <td>2015196432</td>\n",
       "      <td>Wed Jun 03 03:59:30 PDT 2009</td>\n",
       "      <td>NO_QUERY</td>\n",
       "      <td>cytez</td>\n",
       "      <td>@mileycyrus i already do this</td>\n",
       "    </tr>\n",
       "    <tr>\n",
       "      <th>1214273</th>\n",
       "      <td>4</td>\n",
       "      <td>1989429256</td>\n",
       "      <td>Mon Jun 01 01:30:25 PDT 2009</td>\n",
       "      <td>NO_QUERY</td>\n",
       "      <td>Wrongg</td>\n",
       "      <td>@talmklein nope, it's not your first play here...</td>\n",
       "    </tr>\n",
       "    <tr>\n",
       "      <th>366754</th>\n",
       "      <td>0</td>\n",
       "      <td>2048946530</td>\n",
       "      <td>Fri Jun 05 16:02:16 PDT 2009</td>\n",
       "      <td>NO_QUERY</td>\n",
       "      <td>MikeBrooke</td>\n",
       "      <td>Just fed my gecko, need to take my dog for a w...</td>\n",
       "    </tr>\n",
       "    <tr>\n",
       "      <th>958789</th>\n",
       "      <td>4</td>\n",
       "      <td>1825826938</td>\n",
       "      <td>Sun May 17 06:57:29 PDT 2009</td>\n",
       "      <td>NO_QUERY</td>\n",
       "      <td>Vickyvargas</td>\n",
       "      <td>Prom was amazinggg!! Now off to Lake Conroe</td>\n",
       "    </tr>\n",
       "  </tbody>\n",
       "</table>\n",
       "</div>\n",
       "      <button class=\"colab-df-convert\" onclick=\"convertToInteractive('df-6cb5533d-a3e9-49d6-a97d-670c6174042e')\"\n",
       "              title=\"Convert this dataframe to an interactive table.\"\n",
       "              style=\"display:none;\">\n",
       "        \n",
       "  <svg xmlns=\"http://www.w3.org/2000/svg\" height=\"24px\"viewBox=\"0 0 24 24\"\n",
       "       width=\"24px\">\n",
       "    <path d=\"M0 0h24v24H0V0z\" fill=\"none\"/>\n",
       "    <path d=\"M18.56 5.44l.94 2.06.94-2.06 2.06-.94-2.06-.94-.94-2.06-.94 2.06-2.06.94zm-11 1L8.5 8.5l.94-2.06 2.06-.94-2.06-.94L8.5 2.5l-.94 2.06-2.06.94zm10 10l.94 2.06.94-2.06 2.06-.94-2.06-.94-.94-2.06-.94 2.06-2.06.94z\"/><path d=\"M17.41 7.96l-1.37-1.37c-.4-.4-.92-.59-1.43-.59-.52 0-1.04.2-1.43.59L10.3 9.45l-7.72 7.72c-.78.78-.78 2.05 0 2.83L4 21.41c.39.39.9.59 1.41.59.51 0 1.02-.2 1.41-.59l7.78-7.78 2.81-2.81c.8-.78.8-2.07 0-2.86zM5.41 20L4 18.59l7.72-7.72 1.47 1.35L5.41 20z\"/>\n",
       "  </svg>\n",
       "      </button>\n",
       "      \n",
       "  <style>\n",
       "    .colab-df-container {\n",
       "      display:flex;\n",
       "      flex-wrap:wrap;\n",
       "      gap: 12px;\n",
       "    }\n",
       "\n",
       "    .colab-df-convert {\n",
       "      background-color: #E8F0FE;\n",
       "      border: none;\n",
       "      border-radius: 50%;\n",
       "      cursor: pointer;\n",
       "      display: none;\n",
       "      fill: #1967D2;\n",
       "      height: 32px;\n",
       "      padding: 0 0 0 0;\n",
       "      width: 32px;\n",
       "    }\n",
       "\n",
       "    .colab-df-convert:hover {\n",
       "      background-color: #E2EBFA;\n",
       "      box-shadow: 0px 1px 2px rgba(60, 64, 67, 0.3), 0px 1px 3px 1px rgba(60, 64, 67, 0.15);\n",
       "      fill: #174EA6;\n",
       "    }\n",
       "\n",
       "    [theme=dark] .colab-df-convert {\n",
       "      background-color: #3B4455;\n",
       "      fill: #D2E3FC;\n",
       "    }\n",
       "\n",
       "    [theme=dark] .colab-df-convert:hover {\n",
       "      background-color: #434B5C;\n",
       "      box-shadow: 0px 1px 3px 1px rgba(0, 0, 0, 0.15);\n",
       "      filter: drop-shadow(0px 1px 2px rgba(0, 0, 0, 0.3));\n",
       "      fill: #FFFFFF;\n",
       "    }\n",
       "  </style>\n",
       "\n",
       "      <script>\n",
       "        const buttonEl =\n",
       "          document.querySelector('#df-6cb5533d-a3e9-49d6-a97d-670c6174042e button.colab-df-convert');\n",
       "        buttonEl.style.display =\n",
       "          google.colab.kernel.accessAllowed ? 'block' : 'none';\n",
       "\n",
       "        async function convertToInteractive(key) {\n",
       "          const element = document.querySelector('#df-6cb5533d-a3e9-49d6-a97d-670c6174042e');\n",
       "          const dataTable =\n",
       "            await google.colab.kernel.invokeFunction('convertToInteractive',\n",
       "                                                     [key], {});\n",
       "          if (!dataTable) return;\n",
       "\n",
       "          const docLinkHtml = 'Like what you see? Visit the ' +\n",
       "            '<a target=\"_blank\" href=https://colab.research.google.com/notebooks/data_table.ipynb>data table notebook</a>'\n",
       "            + ' to learn more about interactive tables.';\n",
       "          element.innerHTML = '';\n",
       "          dataTable['output_type'] = 'display_data';\n",
       "          await google.colab.output.renderOutput(dataTable, element);\n",
       "          const docLink = document.createElement('div');\n",
       "          docLink.innerHTML = docLinkHtml;\n",
       "          element.appendChild(docLink);\n",
       "        }\n",
       "      </script>\n",
       "    </div>\n",
       "  </div>\n",
       "  "
      ],
      "text/plain": [
       "         polarity     tweetid                          date query_name  \\\n",
       "1164229         4  1979740820  Sun May 31 04:18:56 PDT 2009   NO_QUERY   \n",
       "1495568         4  2069955839  Sun Jun 07 16:50:22 PDT 2009   NO_QUERY   \n",
       "935831          4  1792844559  Thu May 14 00:26:31 PDT 2009   NO_QUERY   \n",
       "1222579         4  1990304016  Mon Jun 01 04:29:44 PDT 2009   NO_QUERY   \n",
       "287620          0  1994286082  Mon Jun 01 11:42:05 PDT 2009   NO_QUERY   \n",
       "704462          0  2256045842  Sat Jun 20 12:10:45 PDT 2009   NO_QUERY   \n",
       "1325950         4  2015196432  Wed Jun 03 03:59:30 PDT 2009   NO_QUERY   \n",
       "1214273         4  1989429256  Mon Jun 01 01:30:25 PDT 2009   NO_QUERY   \n",
       "366754          0  2048946530  Fri Jun 05 16:02:16 PDT 2009   NO_QUERY   \n",
       "958789          4  1825826938  Sun May 17 06:57:29 PDT 2009   NO_QUERY   \n",
       "\n",
       "                user                                               text  \n",
       "1164229     bizbooks  @itaypaz i bit the bullet and signed up for #a...  \n",
       "1495568   DailyCrumb  @Meonart twitter  how is meon goin? and other ...  \n",
       "935831    lexiblaire  @lsawyer17 you have officially made me a twitt...  \n",
       "1222579      PicStop  @rajdeepuk you are welcome - if you need any m...  \n",
       "287620    NMPrincess  Rite now, I'm @ da mall. Gettn my hair done! I...  \n",
       "704462       AlloryB  So I have no idea why I'm such a loser  can so...  \n",
       "1325950        cytez                     @mileycyrus i already do this   \n",
       "1214273       Wrongg  @talmklein nope, it's not your first play here...  \n",
       "366754    MikeBrooke  Just fed my gecko, need to take my dog for a w...  \n",
       "958789   Vickyvargas       Prom was amazinggg!! Now off to Lake Conroe   "
      ]
     },
     "execution_count": 5,
     "metadata": {},
     "output_type": "execute_result"
    }
   ],
   "source": [
    "dftrain.sample(10)"
   ]
  },
  {
   "cell_type": "markdown",
   "metadata": {
    "id": "KO0s_J8bDqFi"
   },
   "source": [
    "### Text pre-processing"
   ]
  },
  {
   "cell_type": "code",
   "execution_count": 5,
   "metadata": {
    "id": "pKR02fmWDqFi"
   },
   "outputs": [],
   "source": [
    "user_pat = '(?<=^|(?<=[^a-zA-Z0-9-_\\.]))@([A-Za-z]+[A-Za-z0-9]+)'\n",
    "http_pat = '(https?:\\/\\/(?:www\\.|(?!www))[^\\s\\.]+\\.[^\\s]{2,}|www\\.[^\\s]+\\.[^\\s]{2,})'\n",
    "repeat_pat, repeat_repl = \"(.)\\\\1\\\\1+\",'\\\\1\\\\1'\n",
    "    \n",
    "\n",
    "def transform(X): \n",
    "    pp_text = X\n",
    "    pp_text = pp_text.str.replace(pat = user_pat, repl = 'USERNAME')\n",
    "    pp_text = pp_text.str.replace(pat = http_pat, repl = 'URL')\n",
    "    pp_text.str.replace(pat = repeat_pat, repl = repeat_repl)\n",
    "    return pp_text"
   ]
  },
  {
   "cell_type": "markdown",
   "metadata": {
    "id": "srlyyoLSFBUu"
   },
   "source": [
    "#Descriptive statistics "
   ]
  },
  {
   "cell_type": "code",
   "execution_count": 6,
   "metadata": {
    "id": "C6TVthPhG6jm"
   },
   "outputs": [],
   "source": [
    "import string\n",
    "from string import punctuation\n",
    "\n",
    "def descriptive_stats(tokens, top_num_tokens = 5, verbose=True) :\n",
    "    \"\"\"\n",
    "        Given a list of tokens, print number of tokens, number of unique tokens, \n",
    "        number of characters, lexical diversity (https://en.wikipedia.org/wiki/Lexical_diversity), \n",
    "        and num_tokens most common tokens. Return a list with the number of tokens, number\n",
    "        of unique tokens, lexical diversity, and number of characters. \n",
    "    \n",
    "    \"\"\"\n",
    "\n",
    "    # Fill in the correct values here. \n",
    "    num_tokens = len(tokens)\n",
    "    num_unique_tokens = len(set(tokens))\n",
    "    lexical_diversity = num_unique_tokens/num_tokens\n",
    "    num_characters = len(\"\".join(tokens))\n",
    "\n",
    "    if verbose :        \n",
    "        print(f\"There are {num_tokens} tokens in the data.\")\n",
    "        print(f\"There are {num_unique_tokens} unique tokens in the data.\")\n",
    "        print(f\"There are {num_characters} characters in the data.\")\n",
    "        print(f\"The lexical diversity is {lexical_diversity:.3f} in the data.\")\n",
    "    \n",
    "        # print the five most common tokens\n",
    "        \n",
    "        # use a list comprehension on a set to exclude repeating\n",
    "        # tokens and empty strings\n",
    "        unique_tokens = [token for token in set(tokens) if token]\n",
    "        # use a unique tokens to check frequency of tokens in \n",
    "        # original list\n",
    "        counts = [tokens.count(token) for token in unique_tokens]\n",
    "        result = []\n",
    "        \n",
    "        # iterate over the range of tokens to locate and find the\n",
    "        # maximum count, then mutate both unique_tokens and counts\n",
    "        # based on the associated position\n",
    "        for _ in range(top_num_tokens):\n",
    "            max_count = max(counts)\n",
    "            max_count_pos = counts.index(max_count)\n",
    "            most_common = unique_tokens.pop(max_count_pos)\n",
    "            result.append(most_common)\n",
    "            counts.pop(max_count_pos)\n",
    "\n",
    "        print(result)\n",
    "\n",
    "            \n",
    "    return([num_tokens, num_unique_tokens,\n",
    "            lexical_diversity,\n",
    "            num_characters])\n",
    "    \n"
   ]
  },
  {
   "cell_type": "code",
   "execution_count": null,
   "metadata": {
    "colab": {
     "base_uri": "https://localhost:8080/"
    },
    "id": "CvS2eYNNFFWg",
    "outputId": "373375b6-8028-4ee5-e537-a0cf4ab0a4db"
   },
   "outputs": [],
   "source": [
    "import warnings\n",
    "warnings.simplefilter(action='ignore', category=FutureWarning)\n",
    "\n",
    "\n",
    "#PRE-Process step\n",
    "#feel free to add more items to the pre-processing step\n",
    "dftrain['text'] = transform(dftrain['text'])\n",
    "##word_tokenize \n",
    "dftrain['text'] = dftrain.apply(lambda row: nltk.word_tokenize(row['text']), axis=1)\n",
    "\n",
    "\n",
    "\n",
    "print(\"DESCRIPTIVE STATS ON TEXT: \")\n",
    "all = []\n",
    "#on 100k data\n",
    "for li in dftrain['text'].sample(10000).iteritems(): all += li[1]\n",
    "#on all data  \n",
    "# for li in dftrain['text'].iteritems(): all += li[1]\n",
    "\n",
    "#feel free to add more items to analyze in descriptive_stats\n",
    "descriptive_stats(all, verbose=True)\n",
    "print(\"\\n\")\n",
    "\n",
    "\n",
    "print(\"DESCRIPTIVE STATS ON SENTIMENT POLARITY:\")\n",
    "dftrain['polarity'].describe()\n"
   ]
  },
  {
   "cell_type": "markdown",
   "metadata": {
    "id": "0yrA6HZiDqFj"
   },
   "source": [
    "### TODO: Train and test model"
   ]
  },
  {
   "cell_type": "code",
   "execution_count": null,
   "metadata": {
    "id": "V0ADNRDPDqFk"
   },
   "outputs": [],
   "source": [
    "Xtest, ytest = dftest.text[dftest.polarity!=2], dftest.polarity[dftest.polarity!=2]\n",
    "\n"
   ]
  },
  {
   "cell_type": "code",
   "execution_count": null,
   "metadata": {},
   "outputs": [],
   "source": []
  }
 ],
 "metadata": {
  "colab": {
   "name": "sentiment-analysis.ipynb",
   "provenance": []
  },
  "kernelspec": {
   "display_name": "Python 3 (ipykernel)",
   "language": "python",
   "name": "python3"
  },
  "language_info": {
   "codemirror_mode": {
    "name": "ipython",
    "version": 3
   },
   "file_extension": ".py",
   "mimetype": "text/x-python",
   "name": "python",
   "nbconvert_exporter": "python",
   "pygments_lexer": "ipython3",
   "version": "3.9.12"
  }
 },
 "nbformat": 4,
 "nbformat_minor": 1
}
